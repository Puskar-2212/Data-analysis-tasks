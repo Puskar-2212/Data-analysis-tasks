{
  "nbformat": 4,
  "nbformat_minor": 0,
  "metadata": {
    "colab": {
      "provenance": []
    },
    "kernelspec": {
      "name": "python3",
      "display_name": "Python 3"
    },
    "language_info": {
      "name": "python"
    }
  },
  "cells": [
    {
      "cell_type": "code",
      "execution_count": null,
      "metadata": {
        "id": "A0iannayoPff"
      },
      "outputs": [],
      "source": [
        "import pandas as pd\n",
        "df = pd.read_csv(\"/content/drive/MyDrive/product_review_dataset.csv\")"
      ]
    },
    {
      "cell_type": "code",
      "source": [
        "# -------------------------------\n",
        "# 1. EXPLORATORY ANALYSIS\n",
        "# -------------------------------\n",
        "\n",
        "# 1. Prior probability: P(Defective)\n",
        "p_defective = df['Defective'].mean()\n",
        "\n",
        "# 2. Average review rating for defective vs non-defective\n",
        "avg_rating_defective = df[df['Defective'] == 1]['ReviewRating'].mean()\n",
        "avg_rating_non_defective = df[df['Defective'] == 0]['ReviewRating'].mean()\n",
        "\n",
        "# 3. Return rates\n",
        "return_rate_defective = df[df['Defective'] == 1]['HighReturn'].mean()\n",
        "return_rate_non_defective = df[df['Defective'] == 0]['HighReturn'].mean()"
      ],
      "metadata": {
        "id": "Uk_NussmpFf-"
      },
      "execution_count": null,
      "outputs": []
    },
    {
      "cell_type": "code",
      "source": [
        "\n",
        "# -------------------------------\n",
        "# 2. BAYESIAN INFERENCE\n",
        "# -------------------------------\n",
        "\n",
        "# Probabilities\n",
        "p_highreturn_given_defective = df[df['Defective'] == 1]['HighReturn'].mean()\n",
        "p_highreturn_given_not_defective = df[df['Defective'] == 0]['HighReturn'].mean()\n",
        "p_highreturn = df['HighReturn'].mean()\n",
        "\n",
        "# Bayes’ Theorem: P(Defective | HighReturn)\n",
        "p_defective_given_highreturn = (p_highreturn_given_defective * p_defective) / p_highreturn"
      ],
      "metadata": {
        "id": "Kt1zseiapPnR"
      },
      "execution_count": null,
      "outputs": []
    },
    {
      "cell_type": "code",
      "source": [
        "# -------------------------------\n",
        "# 3. MULTI-FEATURE RISK SCORING\n",
        "# -------------------------------\n",
        "\n",
        "# Define risk score based on:\n",
        "# - HighReturn == 1\n",
        "# - ReviewRating <= 2\n",
        "# - HasComplaint == True\n",
        "df['RiskScore'] = (\n",
        "    (df['HighReturn'] == 1).astype(int) +\n",
        "    (df['ReviewRating'] <= 2).astype(int) +\n",
        "    (df['HasComplaint'] == True).astype(int)\n",
        ")\n",
        "\n",
        "# Top 10 highest-risk products\n",
        "top_risk_products = df.sort_values(by='RiskScore', ascending=False).head(10)"
      ],
      "metadata": {
        "id": "d20ky5HcpSvU"
      },
      "execution_count": null,
      "outputs": []
    },
    {
      "cell_type": "code",
      "source": [
        "# -------------------------------\n",
        "# 4. DECISION SCENARIO\n",
        "# -------------------------------\n",
        "\n",
        "# Example product input\n",
        "product = {\n",
        "    \"HighReturn\": 1,\n",
        "    \"ReviewRating\": 1.5,\n",
        "    \"HasComplaint\": True,\n",
        "    \"VerifiedPurchase\": False\n",
        "}\n",
        "\n",
        "# Risk score for this product\n",
        "product_risk_score = int(product['HighReturn'] == 1) + int(product['ReviewRating'] <= 2) + int(product['HasComplaint'] == True)\n",
        "\n",
        "# Recommendation logic\n",
        "recall_recommendation = \"Yes\" if product_risk_score >= 2 else \"No\""
      ],
      "metadata": {
        "id": "4hrK1N4HpYGW"
      },
      "execution_count": null,
      "outputs": []
    },
    {
      "cell_type": "code",
      "source": [
        "# -------------------------------\n",
        "# 5. DISPLAY RESULTS\n",
        "# -------------------------------\n",
        "\n",
        "print(\"Exploratory Analysis:\")\n",
        "print(f\"P(Defective): {p_defective:.4f}\")\n",
        "print(f\"Avg Review Rating - Defective: {avg_rating_defective:.2f}\")\n",
        "print(f\"Avg Review Rating - Non-Defective: {avg_rating_non_defective:.2f}\")\n",
        "print(f\"Return Rate - Defective: {return_rate_defective:.4f}\")\n",
        "print(f\"Return Rate - Non-Defective: {return_rate_non_defective:.4f}\")\n",
        "\n",
        "print(\"\\n Bayesian Inference:\")\n",
        "print(f\"P(HighReturn | Defective): {p_highreturn_given_defective:.4f}\")\n",
        "print(f\"P(HighReturn | Not Defective): {p_highreturn_given_not_defective:.4f}\")\n",
        "print(f\"P(HighReturn): {p_highreturn:.4f}\")\n",
        "print(f\"P(Defective | HighReturn): {p_defective_given_highreturn:.4f}\")\n",
        "\n",
        "print(\"\\n Top 10 Highest-Risk Products:\")\n",
        "print(top_risk_products[['Defective', 'HighReturn', 'ReviewRating', 'HasComplaint', 'VerifiedPurchase', 'RiskScore']])\n",
        "\n",
        "print(\"\\n Decision Scenario:\")\n",
        "print(f\"Product Risk Score: {product_risk_score}\")\n",
        "print(f\"Recommend Recall? {recall_recommendation}\")"
      ],
      "metadata": {
        "colab": {
          "base_uri": "https://localhost:8080/"
        },
        "id": "CCZv0nlYpd8g",
        "outputId": "b7b37c95-44a2-42b8-ab2c-a8f6b3b62dee"
      },
      "execution_count": null,
      "outputs": [
        {
          "output_type": "stream",
          "name": "stdout",
          "text": [
            "Exploratory Analysis:\n",
            "P(Defective): 0.0961\n",
            "Avg Review Rating - Defective: 2.48\n",
            "Avg Review Rating - Non-Defective: 4.18\n",
            "Return Rate - Defective: 0.6961\n",
            "Return Rate - Non-Defective: 0.1026\n",
            "\n",
            " Bayesian Inference:\n",
            "P(HighReturn | Defective): 0.6961\n",
            "P(HighReturn | Not Defective): 0.1026\n",
            "P(HighReturn): 0.1596\n",
            "P(Defective | HighReturn): 0.4192\n",
            "\n",
            " Top 10 Highest-Risk Products:\n",
            "      Defective  HighReturn  ReviewRating  HasComplaint  VerifiedPurchase  \\\n",
            "9983          1           1           1.5          True              True   \n",
            "7942          1           1           1.1          True              True   \n",
            "7924          1           1           1.6          True              True   \n",
            "8392          1           1           1.8          True              True   \n",
            "7817          1           1           2.0          True              True   \n",
            "7796          1           1           1.9          True              True   \n",
            "2954          1           1           1.9          True              True   \n",
            "2927          1           1           1.8          True              True   \n",
            "2529          1           1           1.9          True             False   \n",
            "2835          1           1           1.7          True             False   \n",
            "\n",
            "      RiskScore  \n",
            "9983          3  \n",
            "7942          3  \n",
            "7924          3  \n",
            "8392          3  \n",
            "7817          3  \n",
            "7796          3  \n",
            "2954          3  \n",
            "2927          3  \n",
            "2529          3  \n",
            "2835          3  \n",
            "\n",
            " Decision Scenario:\n",
            "Product Risk Score: 3\n",
            "Recommend Recall? Yes\n"
          ]
        }
      ]
    }
  ]
}