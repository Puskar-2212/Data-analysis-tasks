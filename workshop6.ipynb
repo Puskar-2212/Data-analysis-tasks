{
  "nbformat": 4,
  "nbformat_minor": 0,
  "metadata": {
    "colab": {
      "provenance": []
    },
    "kernelspec": {
      "name": "python3",
      "display_name": "Python 3"
    },
    "language_info": {
      "name": "python"
    }
  },
  "cells": [
    {
      "cell_type": "markdown",
      "source": [
        "# Confidence Interval- Coding exercises"
      ],
      "metadata": {
        "id": "v-aCs8WP7MN3"
      }
    },
    {
      "cell_type": "markdown",
      "source": [
        "#Exercise-1"
      ],
      "metadata": {
        "id": "PEhac22j7Vt_"
      }
    },
    {
      "cell_type": "code",
      "source": [
        "import scipy.stats as stats\n",
        "import numpy as np\n",
        "\n",
        "n = 50\n",
        "sample_mean = 4.2\n",
        "sample_std = 1.1\n",
        "confidence =0.95\n",
        "\n",
        "#Standard error\n",
        "SE = sample_std/np.sqrt(n)\n",
        "\n",
        "#Critical t-value\n",
        "alpha = 1-confidence\n",
        "df = n-1\n",
        "t_critical = stats.t.ppf(1-alpha/2,n-1)\n",
        "\n",
        "#Margin of error\n",
        "ME = t_critical * SE\n",
        "\n",
        "# Confidence Interval\n",
        "ci_lower = sample_mean-ME\n",
        "ci_upper = sample_mean+ME\n",
        "\n",
        "print(\"Standard error =\", SE)\n",
        "print(\"t_critical =\", t_critical)\n",
        "print(\"Margin of error =\", ME)\n",
        "print(\"95% CI = (\", ci_lower, \",\", ci_upper, \")\")\n",
        "\n"
      ],
      "metadata": {
        "colab": {
          "base_uri": "https://localhost:8080/"
        },
        "id": "AwBezwwU7a3b",
        "outputId": "a1993ff0-6d46-4558-8d41-45cc0cd3b858"
      },
      "execution_count": null,
      "outputs": [
        {
          "output_type": "stream",
          "name": "stdout",
          "text": [
            "Standard error = 0.15556349186104046\n",
            "t_critical = 2.0095752371292397\n",
            "Margin of error = 0.31261654104530295\n",
            "95% CI = ( 3.887383458954697 , 4.512616541045303 )\n"
          ]
        }
      ]
    },
    {
      "cell_type": "markdown",
      "source": [
        "# Exercise -2"
      ],
      "metadata": {
        "id": "DLWn0M9I9pI8"
      }
    },
    {
      "cell_type": "markdown",
      "source": [
        "Confidence Interval for Proportion"
      ],
      "metadata": {
        "id": "5vSqTfUFCa-G"
      }
    },
    {
      "cell_type": "code",
      "source": [
        "n = 400\n",
        "x = 128\n",
        "confidence = 0.9\n",
        "\n",
        "#computing sample proportion\n",
        "p̂ = x / n\n",
        "\n",
        "#standard error\n",
        "SE = np.sqrt(p̂ * (1-p̂)/ n)\n",
        "\n",
        "# Finding the z critical value\n",
        "alpha = 1- confidence\n",
        "z_critical = stats.norm.ppf(1 - alpha/2)\n",
        "\n",
        "#compute confidence interval\n",
        "CI_lower = p̂ - z_critical * SE\n",
        "CI_upper = p̂ + z_critical * SE\n",
        "\n",
        "print(\"Standard error =\", SE)\n",
        "print(\"z_critical =\", z_critical)\n",
        "print(\"Sample proportion =\", p̂)\n",
        "print(f\"{int(confidence*100)}% CI = ({ci_lower:.4f}, {ci_upper:.4f})\")\n"
      ],
      "metadata": {
        "id": "Xribh3-O9O6W",
        "colab": {
          "base_uri": "https://localhost:8080/"
        },
        "outputId": "e0ee8e28-17a6-4fa1-b7ac-044e56a25a7c"
      },
      "execution_count": null,
      "outputs": [
        {
          "output_type": "stream",
          "name": "stdout",
          "text": [
            "Standard error = 0.0233238075793812\n",
            "z_critical = 1.6448536269514722\n",
            "Sample proportion = 0.32\n",
            "90% CI = (3.8874, 4.5126)\n"
          ]
        }
      ]
    },
    {
      "cell_type": "markdown",
      "source": [
        "#Exercise -3"
      ],
      "metadata": {
        "id": "3giDWgXkB7p8"
      }
    },
    {
      "cell_type": "markdown",
      "source": [
        "Compare Two Means (Independent Samples)"
      ],
      "metadata": {
        "id": "8Lf0BYN-G4xN"
      }
    },
    {
      "cell_type": "code",
      "source": [
        "import math\n",
        "from math import isfinite\n",
        "from scipy.stats import t\n",
        "\n",
        "# Given data\n",
        "n1, mean1, std1 = 40, 5200, 610\n",
        "n2, mean2, std2 = 35, 4900, 580\n",
        "confidence = 0.95\n",
        "\n",
        "#Computing standard error\n",
        "se = math.sqrt((std1**2)/n1 + (std2**2)/n2)\n",
        "\n",
        "#computing degree of freedom\n",
        "num = ( (std1**2)/n1 + (std2**2)/n2 )**2\n",
        "den = (( (std1**2)/n1 )**2) / (n1 - 1) + (( (std2**2)/n2 )**2) / (n2 - 1)\n",
        "df = num / den\n",
        "\n",
        "#Getting critical t value\n",
        "try:\n",
        "    alpha = 1 - confidence\n",
        "    t_star = t.ppf(1 - alpha/2, df)\n",
        "except Exception:\n",
        "    t_star = 1.99\n",
        "\n",
        "# Step 4: compute confidence interval for the difference (mean1 - mean2)\n",
        "diff = mean1 - mean2\n",
        "margin = t_star * se\n",
        "ci_low, ci_high = diff - margin, diff + margin\n",
        "\n",
        "print(f\"SE = {se:.4f}, df = {df:.2f}, t* = {t_star:.3f}\")\n",
        "print(f\"95% CI for (mu1 - mu2): ({ci_low:.2f}, {ci_high:.2f})\")\n",
        "\n",
        "\n",
        "\n"
      ],
      "metadata": {
        "id": "NUu9vRCIFQtL",
        "colab": {
          "base_uri": "https://localhost:8080/"
        },
        "outputId": "56f37aa1-7544-42e5-87ee-869f80fc2eee"
      },
      "execution_count": null,
      "outputs": [
        {
          "output_type": "stream",
          "name": "stdout",
          "text": [
            "SE = 137.5279, df = 72.48, t* = 1.993\n",
            "95% CI for (mu1 - mu2): (25.87, 574.13)\n"
          ]
        }
      ]
    },
    {
      "cell_type": "markdown",
      "source": [
        "# Exercise 4"
      ],
      "metadata": {
        "id": "L-zBAEEiIYxt"
      }
    },
    {
      "cell_type": "markdown",
      "source": [
        "Visualizing Confidence Intervals"
      ],
      "metadata": {
        "id": "rC0a4OwJId5C"
      }
    },
    {
      "cell_type": "code",
      "source": [
        "import numpy as np\n",
        "import matplotlib.pyplot as plt\n",
        "from scipy.stats import t\n",
        "\n",
        "# Parameters\n",
        "np.random.seed(42)  # reproducibility\n",
        "true_mean, true_std = 3.6, 0.8\n",
        "n, num_samples = 30, 100\n",
        "alpha = 0.05\n",
        "\n",
        "# Step 1: simulate 100 samples\n",
        "samples = [np.random.normal(true_mean, true_std, n) for _ in range(num_samples)]\n",
        "\n",
        "# Step 2 & 3: compute CI for each and store bounds\n",
        "cis = []\n",
        "df = n - 1\n",
        "t_star = t.ppf(1 - alpha/2, df)  # critical t value\n",
        "\n",
        "for sample in samples:\n",
        "    mean = np.mean(sample)\n",
        "    se = np.std(sample, ddof=1) / np.sqrt(n)\n",
        "    margin = t_star * se\n",
        "    lower, upper = mean - margin, mean + margin\n",
        "    cis.append((lower, upper))\n",
        "\n",
        "# Step 4: plot intervals, color based on whether they contain true mean\n",
        "plt.figure(figsize=(10, 6))\n",
        "for i, (low, high) in enumerate(cis):\n",
        "    if low <= true_mean <= high:\n",
        "        plt.plot([low, high], [i, i], color=\"blue\")\n",
        "    else:\n",
        "        plt.plot([low, high], [i, i], color=\"red\")\n",
        "\n",
        "plt.axvline(true_mean, color=\"black\", linestyle=\"--\", label=f\"True mean = {true_mean}\")\n",
        "plt.xlabel(\"Customer Rating\")\n",
        "plt.ylabel(\"Sample Index\")\n",
        "plt.title(\"95% Confidence Intervals for 100 Samples (n=30 each)\")\n",
        "plt.legend()\n",
        "plt.show()\n",
        "\n",
        "# Count how many CIs contain the true mean\n",
        "coverage = sum(1 for low, high in cis if low <= true_mean <= high)\n",
        "print(f\"Out of {num_samples}, {coverage} intervals contain the true mean ({coverage/num_samples:.2%})\")\n"
      ],
      "metadata": {
        "colab": {
          "base_uri": "https://localhost:8080/",
          "height": 449
        },
        "id": "8mxmVALpH3m0",
        "outputId": "a5ebbe32-c9ad-4e87-baea-d794f96f98ed"
      },
      "execution_count": null,
      "outputs": [
        {
          "output_type": "display_data",
          "data": {
            "text/plain": [
              "<Figure size 1000x600 with 1 Axes>"
            ],
            "image/png": "[encoded data removed]"
          },
          "metadata": {}
        },
        {
          "output_type": "stream",
          "name": "stdout",
          "text": [
            "Out of 100, 95 intervals contain the true mean (95.00%)\n"
          ]
        }
      ]
    },
    {
      "cell_type": "markdown",
      "source": [
        "# Service Times– Exponential Distributio"
      ],
      "metadata": {
        "id": "e3Pwg2OzKqSY"
      }
    },
    {
      "cell_type": "code",
      "source": [
        "import numpy as np\n",
        "\n",
        "# Sample data\n",
        "data = np.array([5.2, 3.1, 4.7, 6.0, 2.8])\n",
        "n = len(data)\n",
        "\n",
        "# Step 1: Compute MLE for lambda (λ = n / sum(data))\n",
        "lambda_hat = n / np.sum(data)\n",
        "\n",
        "print(f\"Sample size n = {n}\")\n",
        "print(f\"Sum of data = {np.sum(data):.2f}\")\n",
        "print(f\"MLE for λ = {lambda_hat:.4f}\")\n",
        "\n",
        "# Asymptotic variance: Var(λ_hat) ≈ λ^2 / n\n",
        "se = lambda_hat / np.sqrt(n)\n",
        "z = 1.96  # 95% normal approx\n",
        "ci_lower = lambda_hat - z * se\n",
        "ci_upper = lambda_hat + z * se\n",
        "\n",
        "print(f\"95% CI for λ ≈ ({ci_lower:.4f}, {ci_upper:.4f})\")\n"
      ],
      "metadata": {
        "colab": {
          "base_uri": "https://localhost:8080/"
        },
        "id": "imyMSLdAI-KV",
        "outputId": "e00d0376-4cc3-4183-9d7a-e1e0b2e28f59"
      },
      "execution_count": null,
      "outputs": [
        {
          "output_type": "stream",
          "name": "stdout",
          "text": [
            "Sample size n = 5\n",
            "Sum of data = 21.80\n",
            "MLE for λ = 0.2294\n",
            "95% CI for λ ≈ (0.0283, 0.4304)\n"
          ]
        }
      ]
    },
    {
      "cell_type": "markdown",
      "source": [
        "# Customer Complaints– Poisson Distribution"
      ],
      "metadata": {
        "id": "GFRGg0KHK6vF"
      }
    },
    {
      "cell_type": "code",
      "source": [
        "import numpy as np\n",
        "import matplotlib.pyplot as plt\n",
        "from math import factorial\n",
        "\n",
        "# Data\n",
        "data = np.array([2, 3, 4, 1, 0, 3, 2])\n",
        "n = len(data)\n",
        "\n",
        "# Step 1: MLE for λ (Poisson) = sample mean\n",
        "lambda_hat = np.mean(data)\n",
        "\n",
        "print(f\"Sample size n = {n}\")\n",
        "print(f\"Sum of complaints = {np.sum(data)}\")\n",
        "print(f\"MLE for λ = {lambda_hat:.4f} complaints/day\")\n",
        "\n",
        "# Step 2: Plot likelihood function\n",
        "lambdas = np.linspace(0.1, 6, 200)  # range of λ to explore\n",
        "likelihoods = [\n",
        "    np.prod((np.exp(-l) * (l**data)) / np.array([factorial(x) for x in data]))\n",
        "    for l in lambdas\n",
        "]\n",
        "\n",
        "plt.figure(figsize=(8,5))\n",
        "plt.plot(lambdas, likelihoods, color=\"blue\", label=\"Likelihood\")\n",
        "plt.axvline(lambda_hat, color=\"red\", linestyle=\"--\", label=f\"MLE λ = {lambda_hat:.2f}\")\n",
        "plt.xlabel(\"λ (average complaints per day)\")\n",
        "plt.ylabel(\"Likelihood\")\n",
        "plt.title(\"Likelihood Function for Poisson λ\")\n",
        "plt.legend()\n",
        "plt.show()\n"
      ],
      "metadata": {
        "colab": {
          "base_uri": "https://localhost:8080/",
          "height": 559
        },
        "id": "CQ0HrvHcK0QP",
        "outputId": "961ef34b-27c8-4f90-eeaf-a353d2a84654"
      },
      "execution_count": null,
      "outputs": [
        {
          "output_type": "stream",
          "name": "stdout",
          "text": [
            "Sample size n = 7\n",
            "Sum of complaints = 15\n",
            "MLE for λ = 2.1429 complaints/day\n"
          ]
        },
        {
          "output_type": "display_data",
          "data": {
            "text/plain": [
              "<Figure size 800x500 with 1 Axes>"
            ],
            "image/png": "[encoded data removed]"
          },
          "metadata": {}
        }
      ]
    },
    {
      "cell_type": "markdown",
      "source": [
        "From a business operations standpoint, the estimate of λ ≈ 2.14 complaints/day means:\n",
        "\n",
        "\n",
        "\n",
        "*  Expected daily workload: About 2 complaints per day\n",
        "*  Staffing & resource planning: Helps decide how many reps or support resources are needed.\n",
        "*  Monitoring: Days with more complaints may signal service issues; fewer complaints may indicate efficiency.\n",
        "*   Planning for variability: Daily complaints typically fluctuate around 2, so operations can prepare accordingly.\n",
        "\n",
        "\n",
        "\n",
        "\n",
        "\n",
        "\n",
        "\n",
        "\n",
        "\n"
      ],
      "metadata": {
        "id": "24FKf_iyMu4g"
      }
    },
    {
      "cell_type": "markdown",
      "source": [
        "# Normal Distribution– Revenue Per Transaction"
      ],
      "metadata": {
        "id": "Dm6lPIc2NyLG"
      }
    },
    {
      "cell_type": "code",
      "source": [
        "import numpy as np\n",
        "\n",
        "# Sample data: revenue per transaction\n",
        "data = np.array([220, 250, 245, 230, 265, 240])\n",
        "n = len(data)\n",
        "\n",
        "# Step 1: MLE for mean (mu) is the sample mean\n",
        "mu_hat = np.mean(data)\n",
        "\n",
        "# Step 2: MLE for variance (sigma^2) is the average squared deviation from the mean\n",
        "sigma2_hat = np.sum((data - mu_hat)**2) / n\n",
        "sigma_hat = np.sqrt(sigma2_hat)\n",
        "\n",
        "# Print results\n",
        "print(f\"Sample size n = {n}\")\n",
        "print(f\"Sample mean (MLE for μ) = {mu_hat:.2f} dollars\")\n",
        "print(f\"Sample variance (MLE for σ²) = {sigma2_hat:.2f}\")\n",
        "print(f\"Sample standard deviation = {sigma_hat:.2f} dollars\")\n",
        "\n",
        "# Business interpretation\n",
        "print(\"\\nBusiness Interpretation:\")\n",
        "print(f\"- On average, each customer spends about ${mu_hat:.2f} per transaction.\")\n",
        "print(f\"- Transaction amounts typically vary by ±${sigma_hat:.2f}, indicating moderate variability.\")\n"
      ],
      "metadata": {
        "colab": {
          "base_uri": "https://localhost:8080/"
        },
        "id": "wh0VBrg8LRSy",
        "outputId": "8c800bf4-d5c5-4de4-cb8a-2f4ac6e8fda8"
      },
      "execution_count": null,
      "outputs": [
        {
          "output_type": "stream",
          "name": "stdout",
          "text": [
            "Sample size n = 6\n",
            "Sample mean (MLE for μ) = 241.67 dollars\n",
            "Sample variance (MLE for σ²) = 205.56\n",
            "Sample standard deviation = 14.34 dollars\n",
            "\n",
            "Business Interpretation:\n",
            "- On average, each customer spends about $241.67 per transaction.\n",
            "- Transaction amounts typically vary by ±$14.34, indicating moderate variability.\n"
          ]
        }
      ]
    }
  ]
}