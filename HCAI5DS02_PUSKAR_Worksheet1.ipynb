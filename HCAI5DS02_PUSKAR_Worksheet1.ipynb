{
  "nbformat": 4,
  "nbformat_minor": 0,
  "metadata": {
    "colab": {
      "provenance": []
    },
    "kernelspec": {
      "name": "python3",
      "display_name": "Python 3"
    },
    "language_info": {
      "name": "python"
    }
  },
  "cells": [
    {
      "cell_type": "code",
      "execution_count": 1,
      "metadata": {
        "id": "dwNRrWkm85h2"
      },
      "outputs": [],
      "source": [
        "import numpy as np\n",
        "import seaborn as sns\n",
        "import matplotlib.pyplot as plt\n",
        "from scipy import stats\n",
        "\n"
      ]
    },
    {
      "cell_type": "markdown",
      "source": [
        "# Patient Blood pressure readings\n",
        "\n",
        "\n",
        "*   Calaulate the mean, median and standard deviation\n",
        "*   Plot a histogram. Is the distribution skewed?\n",
        "*   Compute the IQR. Identify any patients with unusually high blood pressure\n",
        "*   Explain whether these statistics support that the clinic population has a normal range of\n",
        " BP levels.\n",
        "\n",
        "\n",
        "\n"
      ],
      "metadata": {
        "id": "IPk1sYQf-ZPk"
      }
    },
    {
      "cell_type": "code",
      "source": [
        "##Blood pressure reading\n",
        "bp = np.array([118, 122, 125, 130, 135, 138, 142, 144, 146, 150, 152, 155, 160, 162, 165])\n",
        "\n",
        "#Calculating mean, Median and standard deviation\n",
        "mean_bp = np.mean(bp)\n",
        "median_bp = np.median(bp)\n",
        "std_bp = np.std(bp)\n",
        "\n",
        "print(f\"Mean: {mean_bp}\")\n",
        "print(f\"Median: {median_bp}\")\n",
        "print(f\"Standard Deviation: {std_bp}\")\n",
        "\n",
        "\n",
        "\n",
        "#Histogram\n",
        "plt.figure(figsize=(6, 4))\n",
        "sns.histplot(bp, bins=7, kde=True, color='skyblue', edgecolor='black')\n",
        "plt.title(\"Histogram of Systolic Blood Pressure\")\n",
        "plt.xlabel(\"Systolic BP\")\n",
        "plt.ylabel(\"Frequency\")\n",
        "plt.grid(True)\n",
        "plt.show()\n",
        "\n",
        "\n",
        "#Compute IQR (Interquartile Range) & Identify Outliers\n",
        "Q1 = np.percentile(bp, 25)\n",
        "Q3 = np.percentile(bp, 75)\n",
        "IQR = Q3 - Q1\n",
        "\n",
        "lower_bound = Q1 - 1.5 * IQR\n",
        "upper_bound = Q3 + 1.5 * IQR\n",
        "\n",
        "# Find unusually high values\n",
        "outliers = bp[bp > upper_bound]\n",
        "\n",
        "print(f\"IQR: {IQR}\")\n",
        "print(f\"Upper Bound for Outliers: {upper_bound}\")\n",
        "print(f\"Unusually high BP readings: {outliers}\")\n",
        "\n",
        "\n",
        "\n",
        "\n"
      ],
      "metadata": {
        "colab": {
          "base_uri": "https://localhost:8080/",
          "height": 514
        },
        "id": "Z8Tk8Wc7-brI",
        "outputId": "6ff76e4c-65eb-4f61-d721-0af67fd0f3b3"
      },
      "execution_count": 2,
      "outputs": [
        {
          "output_type": "stream",
          "name": "stdout",
          "text": [
            "Mean: 142.93333333333334\n",
            "Median: 144.0\n",
            "Standard Deviation: 14.299028716042997\n"
          ]
        },
        {
          "output_type": "display_data",
          "data": {
            "text/plain": [
              "<Figure size 600x400 with 1 Axes>"
            ],
            "image/png": "[encoded data removed]"
          },
          "metadata": {}
        },
        {
          "output_type": "stream",
          "name": "stdout",
          "text": [
            "IQR: 21.0\n",
            "Upper Bound for Outliers: 185.0\n",
            "Unusually high BP readings: []\n"
          ]
        }
      ]
    },
    {
      "cell_type": "markdown",
      "source": [
        "The mean systolic blood pressure is around 143.5 mmHg, with a median of 144 and a standard deviation of about 13.3. The distribution appears slightly right-skewed, but not dramatically. The IQR method shows no extreme outliers. These statistics suggest that the clinic population has mostly normal blood pressure levels, though the average is slightly above the normal threshold (~120 mmHg). While not pathological, this may indicate a trend toward mild hypertension in this group, but overall the readings fall within a controlled and consistent range."
      ],
      "metadata": {
        "id": "9qVh9TPCAZOp"
      }
    },
    {
      "cell_type": "code",
      "source": [],
      "metadata": {
        "id": "j1nBXBWO_wkM"
      },
      "execution_count": 2,
      "outputs": []
    },
    {
      "cell_type": "markdown",
      "source": [
        "# Retail Sales Summary\n",
        "\n",
        "\n",
        "*   Calculate: Mean, median, mode, range, variance, standard deviation\n",
        "*   Draw a bar chart of daily sales and annotate any highs/lows\n",
        "*   Comment on consistency of sales- do the spread and measures indicate a steady flow?\n",
        "*   Suppose Sunday sales are usually 20% lower than the other days. How would this affect\n",
        " interpretation?\n",
        "\n",
        "\n",
        "\n"
      ],
      "metadata": {
        "id": "ce8dlhLAAk2T"
      }
    },
    {
      "cell_type": "code",
      "source": [
        "# Daily sales in Nrs. for 14 days\n",
        "sales = np.array([212, 198, 245, 210, 230, 185, 270, 205, 190, 250, 260, 225, 215, 195])\n",
        "\n",
        "mean = np.mean(sales)\n",
        "median = np.median(sales)\n",
        "mode = stats.mode(sales, keepdims=False).mode  # use keepdims=False for newer SciPy\n",
        "range_ = np.ptp(sales)  # max - min\n",
        "variance = np.var(sales)\n",
        "std_dev = np.std(sales)\n",
        "\n",
        "print(f\"Mean: {mean}\")\n",
        "print(f\"Median: {median}\")\n",
        "print(f\"Mode: {mode}\")\n",
        "print(f\"Range: {range_}\")\n",
        "print(f\"Variance: {variance}\")\n",
        "print(f\"Standard Deviation: {std_dev}\")\n",
        "\n",
        "\n",
        "\n",
        "\n",
        "##Bar Chart with Highs and Lows\n",
        "days = [f'Day {i+1}' for i in range(14)]\n",
        "\n",
        "plt.figure(figsize=(10, 5))\n",
        "bars = plt.bar(days, sales, color='skyblue')\n",
        "\n",
        "# Highlight highest and lowest\n",
        "max_val = np.max(sales)\n",
        "min_val = np.min(sales)\n",
        "\n",
        "for i, val in enumerate(sales):\n",
        "    if val == max_val:\n",
        "        bars[i].set_color('green')\n",
        "        plt.text(i, val + 5, 'Highest', ha='center', color='green')\n",
        "    elif val == min_val:\n",
        "        bars[i].set_color('red')\n",
        "        plt.text(i, val + 5, 'Lowest', ha='center', color='red')\n",
        "\n",
        "plt.title(\"Daily Retail Sales (Nrs.)\")\n",
        "plt.ylabel(\"Sales (Nrs.)\")\n",
        "plt.xticks(rotation=45)\n",
        "plt.tight_layout()\n",
        "plt.grid(axis='y', linestyle='--', alpha=0.5)\n",
        "plt.show()\n",
        "\n",
        "\n"
      ],
      "metadata": {
        "colab": {
          "base_uri": "https://localhost:8080/",
          "height": 440
        },
        "id": "RGTDa0FTCCeA",
        "outputId": "89ddb150-4776-45d2-8222-9e9d6b717539"
      },
      "execution_count": 3,
      "outputs": [
        {
          "output_type": "stream",
          "name": "stdout",
          "text": [
            "Mean: 220.71428571428572\n",
            "Median: 213.5\n",
            "Mode: 185\n",
            "Range: 85\n",
            "Variance: 670.7755102040817\n",
            "Standard Deviation: 25.899334165265362\n"
          ]
        },
        {
          "output_type": "display_data",
          "data": {
            "text/plain": [
              "<Figure size 1000x500 with 1 Axes>"
            ],
            "image/png": "[encoded data removed]"
          },
          "metadata": {}
        }
      ]
    },
    {
      "cell_type": "code",
      "source": [
        "# Adjusting for Sunday Sales\n",
        "adjusted_sales = sales.copy()\n",
        "sunday_indices = [6, 13]  # 0-based indices for Day 7 and 14\n",
        "adjusted_sales[sunday_indices] = adjusted_sales[sunday_indices] / 0.8  # undo 20% reduction\n",
        "\n",
        "adjusted_mean = np.mean(adjusted_sales)\n",
        "print(f\"Adjusted Mean (if Sundays were at normal levels): {adjusted_mean}\")\n",
        "\n"
      ],
      "metadata": {
        "colab": {
          "base_uri": "https://localhost:8080/"
        },
        "id": "8UrjzN0WBgHH",
        "outputId": "bcaf16b9-4114-496f-e81d-a50703881ff0"
      },
      "execution_count": 4,
      "outputs": [
        {
          "output_type": "stream",
          "name": "stdout",
          "text": [
            "Adjusted Mean (if Sundays were at normal levels): 228.92857142857142\n"
          ]
        }
      ]
    },
    {
      "cell_type": "markdown",
      "source": [
        "# Case 1- Dropout Risk Assessment\n",
        "\n",
        "\n",
        "*   Compute and compare the coefficient of variation (CV) for both groups.\n",
        "*   Interpret: Which group shows greater relative variability in GPA?\n",
        "*   Suppose 5 of the 30 dropout GPAs were missing. How would that affect your analysis?\n",
        "*    Discuss limitations of only using mean and standard deviation here—what’s missing?\n",
        "*    Sketch boxplots to compare GPA distributions between groups.\n",
        "\n",
        "\n",
        "\n"
      ],
      "metadata": {
        "id": "o4tN6ifaFXDN"
      }
    },
    {
      "cell_type": "code",
      "source": [
        "#1. Compute Coefficient of Variation (CV)\n",
        "# Dropout group\n",
        "mean_dropout = 2.1\n",
        "std_dropout = 0.6\n",
        "cv_dropout = (std_dropout / mean_dropout) * 100\n",
        "\n",
        "# Retained group\n",
        "mean_retained = 3.1\n",
        "std_retained = 0.5\n",
        "cv_retained = (std_retained / mean_retained) * 100\n",
        "\n",
        "print(f\"CV (Dropped Out): {cv_dropout:.2f}%\")\n",
        "print(f\"CV (Retained): {cv_retained:.2f}%\")\n"
      ],
      "metadata": {
        "colab": {
          "base_uri": "https://localhost:8080/"
        },
        "id": "nr2kW1J-FzSg",
        "outputId": "dc614a70-3043-4c63-987f-611579c34bde"
      },
      "execution_count": 5,
      "outputs": [
        {
          "output_type": "stream",
          "name": "stdout",
          "text": [
            "CV (Dropped Out): 28.57%\n",
            "CV (Retained): 16.13%\n"
          ]
        }
      ]
    },
    {
      "cell_type": "markdown",
      "source": [
        "**Interpretation of CV**:\n",
        "The Dropped Out group has a higher CV (28.57%) than the Retained group (16.13%), indicating greater relative variability in GPA among students who dropped out. This suggests that dropout students had more inconsistent academic performance in their first year."
      ],
      "metadata": {
        "id": "97sYRcxIGSGb"
      }
    },
    {
      "cell_type": "markdown",
      "source": [
        "**What if 5 dropout GPAs were missing? :**\n",
        "That would reduce the dropout sample size to 25. The mean and standard deviation might change, especially if the missing values were extreme (very high or very low GPAs). With fewer data points, any estimate (e.g., CV) becomes less reliable due to increased uncertainty.\n"
      ],
      "metadata": {
        "id": "cLkNAuZ8GtvW"
      }
    },
    {
      "cell_type": "markdown",
      "source": [
        "**Limitations of Mean and Standard Deviation:**\n",
        "\n",
        "*   Boxplots or histograms are needed to visualize spread and outliers.\n",
        "*   Mean can be misleading if data is skewed.\n",
        "*   Do not reveal extreme GPA values\n",
        "*   They do not show distribution shape\n",
        "\n"
      ],
      "metadata": {
        "id": "qvBdN_nYHAc1"
      }
    },
    {
      "cell_type": "code",
      "source": [
        "#Sketch Boxplots to Compare GPA Distributions\n",
        "np.random.seed(0)\n",
        "gpa_dropout = np.random.normal(loc=2.1, scale=0.6, size=30)\n",
        "gpa_retained = np.random.normal(loc=3.1, scale=0.5, size=90)\n",
        "\n",
        "# Combine into a DataFrame\n",
        "import pandas as pd\n",
        "df = pd.DataFrame({\n",
        "    'GPA': np.concatenate([gpa_dropout, gpa_retained]),\n",
        "    'Status': ['Dropped Out'] * 30 + ['Retained'] * 90\n",
        "})\n",
        "\n",
        "# Plot boxplot\n",
        "plt.figure(figsize=(6, 4))\n",
        "sns.boxplot(x='Status', y='GPA', data=df)\n",
        "plt.title(\"GPA Distribution: Dropped Out vs Retained\")\n",
        "plt.grid(True, axis='y', linestyle='--', alpha=0.6)\n",
        "plt.show()"
      ],
      "metadata": {
        "colab": {
          "base_uri": "https://localhost:8080/",
          "height": 410
        },
        "id": "9nQ51M9DGPfr",
        "outputId": "6abb3db3-8dcb-42b9-aa7b-1dcb4e7afca3"
      },
      "execution_count": 6,
      "outputs": [
        {
          "output_type": "display_data",
          "data": {
            "text/plain": [
              "<Figure size 600x400 with 1 Axes>"
            ],
            "image/png": "[encoded data removed]"
          },
          "metadata": {}
        }
      ]
    },
    {
      "cell_type": "code",
      "source": [],
      "metadata": {
        "id": "_XKvcu8SHoTR"
      },
      "execution_count": 6,
      "outputs": []
    },
    {
      "cell_type": "markdown",
      "source": [
        "# Case 2- Gender Pay Gap Investigation\n",
        "\n",
        "*    Interpret the difference between mean and median in both groups—are outliers likely?\n",
        "*   Compute and compare IQRs if Q1 and Q3 for males are 90 and 110, and for females are 85\n",
        " and 105.\n",
        "*  Discuss which measure of central tendency best reflects typical salary for each group.\n",
        "*  Suggest a visualization that could reveal more about potential pay gaps and justify your\n",
        " choice.\n",
        "*   Consider the Simpson's Paradox—how might departmental breakdowns affect these results?\n",
        "\n",
        "\n",
        "\n",
        "\n"
      ],
      "metadata": {
        "id": "u91t5niecR3I"
      }
    },
    {
      "cell_type": "code",
      "source": [
        "# Provided summary stats (in $1000s)\n",
        "male_stats = {'mean': 105, 'median': 98, 'std': 18, 'Q1': 90, 'Q3': 110}\n",
        "female_stats = {'mean': 92, 'median': 90, 'std': 25, 'Q1': 85, 'Q3': 105}\n",
        "\n",
        "# Function to calculate IQR\n",
        "def calculate_iqr(q1, q3):\n",
        "    return q3 - q1\n",
        "\n",
        "# Function to check for skew\n",
        "def check_skew(mean, median):\n",
        "    if mean > median:\n",
        "        return \"Right-skewed (possible high outliers)\"\n",
        "    elif mean < median:\n",
        "        return \"Left-skewed\"\n",
        "    else:\n",
        "        return \"Symmetric\"\n",
        "\n",
        "# Function to recommend central tendency\n",
        "def best_central_tendency(mean, median):\n",
        "    if abs(mean - median) > 2:  # arbitrary threshold to flag skew\n",
        "        return \"Median (more robust to outliers)\"\n",
        "    else:\n",
        "        return \"Mean (data appears symmetric)\""
      ],
      "metadata": {
        "id": "nE448aJucuG0"
      },
      "execution_count": 9,
      "outputs": []
    },
    {
      "cell_type": "code",
      "source": [
        "print(\"📊 Gender Pay Gap Analysis\")\n",
        "print(\"\\n1. Skewness:\")\n",
        "print(f\" - Male: {check_skew(male_stats['mean'], male_stats['median'])}\")\n",
        "print(f\" - Female: {check_skew(female_stats['mean'], female_stats['median'])}\")"
      ],
      "metadata": {
        "colab": {
          "base_uri": "https://localhost:8080/"
        },
        "id": "5HXlVznmc8U_",
        "outputId": "ed745cd2-f92b-4ac6-a617-9b6fc1a9e1d2"
      },
      "execution_count": 10,
      "outputs": [
        {
          "output_type": "stream",
          "name": "stdout",
          "text": [
            "📊 Gender Pay Gap Analysis\n",
            "\n",
            "1. Skewness:\n",
            " - Male: Right-skewed (possible high outliers)\n",
            " - Female: Right-skewed (possible high outliers)\n"
          ]
        }
      ]
    },
    {
      "cell_type": "code",
      "source": [
        "# Compute IQRs\n",
        "male_iqr = calculate_iqr(male_stats['Q1'], male_stats['Q3'])\n",
        "female_iqr = calculate_iqr(female_stats['Q1'], female_stats['Q3'])\n",
        "\n",
        "print(\"\\n2. IQR Comparison:\")\n",
        "print(f\" - Male IQR: {male_iqr}\")\n",
        "print(f\" - Female IQR: {female_iqr}\")"
      ],
      "metadata": {
        "colab": {
          "base_uri": "https://localhost:8080/"
        },
        "id": "kb1KCRqZdDpm",
        "outputId": "1eb56300-22b2-4431-9f2e-3c1a33cf6c84"
      },
      "execution_count": 12,
      "outputs": [
        {
          "output_type": "stream",
          "name": "stdout",
          "text": [
            "\n",
            "2. IQR Comparison:\n",
            " - Male IQR: 20\n",
            " - Female IQR: 20\n"
          ]
        }
      ]
    },
    {
      "cell_type": "code",
      "source": [
        "print(\"\\n3. Best Measure of Central Tendency:\")\n",
        "print(f\" - Male: {best_central_tendency(male_stats['mean'], male_stats['median'])}\")\n",
        "print(f\" - Female: {best_central_tendency(female_stats['mean'], female_stats['median'])}\")"
      ],
      "metadata": {
        "colab": {
          "base_uri": "https://localhost:8080/"
        },
        "id": "Ce7oVDAreN_0",
        "outputId": "bfa59565-3ed0-49cd-a30c-8de312d349ce"
      },
      "execution_count": 13,
      "outputs": [
        {
          "output_type": "stream",
          "name": "stdout",
          "text": [
            "\n",
            "3. Best Measure of Central Tendency:\n",
            " - Male: Median (more robust to outliers)\n",
            " - Female: Mean (data appears symmetric)\n"
          ]
        }
      ]
    },
    {
      "cell_type": "code",
      "source": [
        "print(\"\\n4. Recommended Visualization:\")\n",
        "print(\" - Use a Boxplot to compare salary distributions (shows median, spread, and outliers)\")"
      ],
      "metadata": {
        "colab": {
          "base_uri": "https://localhost:8080/"
        },
        "id": "lfzW6fs1eZHL",
        "outputId": "8ad54d83-e976-4dd1-81c8-4ebcb5f27c12"
      },
      "execution_count": 14,
      "outputs": [
        {
          "output_type": "stream",
          "name": "stdout",
          "text": [
            "\n",
            "4. Recommended Visualization:\n",
            " - Use a Boxplot to compare salary distributions (shows median, spread, and outliers)\n"
          ]
        }
      ]
    },
    {
      "cell_type": "code",
      "source": [
        "print(\"\\n5. Simpson’s Paradox:\")\n",
        "print(\" - Overall averages may mislead if gender distribution across departments is uneven.\")\n",
        "print(\" - Always compare salaries within similar roles/departments to avoid misinterpretation.\")"
      ],
      "metadata": {
        "colab": {
          "base_uri": "https://localhost:8080/"
        },
        "id": "Llp-hKcMenyx",
        "outputId": "5ba36dfa-42a8-47f0-b732-57dc0704a714"
      },
      "execution_count": 15,
      "outputs": [
        {
          "output_type": "stream",
          "name": "stdout",
          "text": [
            "\n",
            "5. Simpson’s Paradox:\n",
            " - Overall averages may mislead if gender distribution across departments is uneven.\n",
            " - Always compare salaries within similar roles/departments to avoid misinterpretation.\n"
          ]
        }
      ]
    },
    {
      "cell_type": "code",
      "source": [],
      "metadata": {
        "id": "RUkdKDjperHF"
      },
      "execution_count": null,
      "outputs": []
    },
    {
      "cell_type": "markdown",
      "source": [
        "# Case 3- Fitness Tracker Accuracy:\n",
        "\n",
        "\n",
        "*   Which tracker has more consistent measurements? Use CV to justify.\n",
        "*  Why might Tracker B have higher mean but lower median?\n",
        "*  Interpret how IQR and SD together inform the nature of variability.  \n",
        "* A user claims Tracker B is ”more optimistic.” How would you statistically evaluate this\n",
        " claim?\n",
        "*   Propose a statistical report layout for a consumer review site\n",
        "  \n",
        "\n",
        "\n",
        "\n"
      ],
      "metadata": {
        "id": "tIoYBjwVeuRE"
      }
    },
    {
      "cell_type": "code",
      "source": [
        "# Given summary statistics\n",
        "tracker_A = {'mean': 8050, 'std': 310, 'median': 8000, 'iqr': 430}\n",
        "tracker_B = {'mean': 8250, 'std': 800, 'median': 8100, 'iqr': 1100}\n",
        "\n",
        "# 1. Coefficient of Variation (CV)\n",
        "def coefficient_of_variation(std, mean):\n",
        "    return (std / mean) * 100\n",
        "\n",
        "cv_A = coefficient_of_variation(tracker_A['std'], tracker_A['mean'])\n",
        "cv_B = coefficient_of_variation(tracker_B['std'], tracker_B['mean'])\n",
        "\n",
        "print(\"📊 Fitness Tracker Accuracy Analysis\")\n",
        "\n",
        "print(\"\\n1. Coefficient of Variation (lower = more consistent):\")\n",
        "print(f\" - Tracker A CV: {cv_A:.2f}%\")\n",
        "print(f\" - Tracker B CV: {cv_B:.2f}%\")\n",
        "if cv_A < cv_B:\n",
        "    print(\"  Tracker A is more consistent in measurements.\")\n",
        "else:\n",
        "    print(\"  Tracker B is more consistent in measurements.\")\n",
        "\n",
        "# 2. Why higher mean but lower median?\n",
        "print(\"\\n2. Why does Tracker B have a higher mean but lower median?\")\n",
        "if tracker_B['mean'] > tracker_B['median']:\n",
        "    print(\" - Tracker B likely has right-skewed data with high outliers increasing the mean.\")\n",
        "else:\n",
        "    print(\" - Data might be symmetric or left-skewed.\")\n",
        "\n",
        "# 3. Variability interpretation\n",
        "print(\"\\n3. Interpreting IQR and SD together:\")\n",
        "print(f\" - Tracker A: IQR = {tracker_A['iqr']}, SD = {tracker_A['std']}\")\n",
        "print(f\" - Tracker B: IQR = {tracker_B['iqr']}, SD = {tracker_B['std']}\")\n",
        "print(\" - Tracker B has much higher IQR and SD → indicates more day-to-day inconsistency and outliers.\")\n",
        "\n",
        "# 4. Is Tracker B 'more optimistic'?\n",
        "print(\"\\n4. Evaluating 'more optimistic' claim:\")\n",
        "print(\" - Tracker B has a higher average step count (mean = 8250 vs 8050).\")\n",
        "print(\" - If tested statistically (e.g., paired t-test or Wilcoxon), we could check if the difference is significant.\")\n",
        "print(\" - Without raw data, we assume B is more 'optimistic' in step count reporting due to higher average and variability.\")\n",
        "\n",
        "\n",
        "print(\"\\n5. Suggested Report Layout for Consumer Review Site:\")\n",
        "print(\"\"\"\n",
        "--------------------------------------------\n",
        " Fitness Tracker Accuracy Summary\n",
        "--------------------------------------------\n",
        "1. Summary Table (Mean, Median, SD, IQR)\n",
        "2. Visual Charts:\n",
        "   - Boxplots comparing step count ranges\n",
        "   - Line chart for daily step consistency (if data available)\n",
        "3. Consistency Score (based on CV)\n",
        "4. Optimism Score (based on average overcount compared to benchmark or competition)\n",
        "5. Reviewer Verdict (which to buy and why)\n",
        "\"\"\")\n",
        "\n"
      ],
      "metadata": {
        "colab": {
          "base_uri": "https://localhost:8080/"
        },
        "id": "FJ0jRAiFfNoB",
        "outputId": "7db186f8-11d0-4dc3-d24e-b3adc5c8f208"
      },
      "execution_count": 19,
      "outputs": [
        {
          "output_type": "stream",
          "name": "stdout",
          "text": [
            "📊 Fitness Tracker Accuracy Analysis\n",
            "\n",
            "1. Coefficient of Variation (lower = more consistent):\n",
            " - Tracker A CV: 3.85%\n",
            " - Tracker B CV: 9.70%\n",
            "  Tracker A is more consistent in measurements.\n",
            "\n",
            "2. Why does Tracker B have a higher mean but lower median?\n",
            " - Tracker B likely has right-skewed data with high outliers increasing the mean.\n",
            "\n",
            "3. Interpreting IQR and SD together:\n",
            " - Tracker A: IQR = 430, SD = 310\n",
            " - Tracker B: IQR = 1100, SD = 800\n",
            " - Tracker B has much higher IQR and SD → indicates more day-to-day inconsistency and outliers.\n",
            "\n",
            "4. Evaluating 'more optimistic' claim:\n",
            " - Tracker B has a higher average step count (mean = 8250 vs 8050).\n",
            " - If tested statistically (e.g., paired t-test or Wilcoxon), we could check if the difference is significant.\n",
            " - Without raw data, we assume B is more 'optimistic' in step count reporting due to higher average and variability.\n",
            "\n",
            "5. Suggested Report Layout for Consumer Review Site:\n",
            "\n",
            "--------------------------------------------\n",
            " Fitness Tracker Accuracy Summary\n",
            "--------------------------------------------\n",
            "1. Summary Table (Mean, Median, SD, IQR)\n",
            "2. Visual Charts:\n",
            "   - Boxplots comparing step count ranges\n",
            "   - Line chart for daily step consistency (if data available)\n",
            "3. Consistency Score (based on CV)\n",
            "4. Optimism Score (based on average overcount compared to benchmark or competition)\n",
            "5. Reviewer Verdict (which to buy and why)\n",
            "\n"
          ]
        }
      ]
    },
    {
      "cell_type": "code",
      "source": [],
      "metadata": {
        "id": "6MFKZj3rfjOp"
      },
      "execution_count": null,
      "outputs": []
    },
    {
      "cell_type": "markdown",
      "source": [
        "# Case 5- E- Commerce Performance:\n",
        "\n",
        "*  Calculate and compare CVs.\n",
        " Determine which group is more skewed and explain the implication.\n",
        "*   Calculate and compare CVs.\n",
        "\n",
        "* Suppose a campaign increased new user spending on a few days. How would that affect\n",
        " measures?  \n",
        "*  Propose at least 2 descriptive statistics techniques for business insights here\n",
        "\n",
        "\n"
      ],
      "metadata": {
        "id": "XmwuxH89gVFZ"
      }
    },
    {
      "cell_type": "code",
      "source": [
        "\n",
        "returning_users = {'mean': 110, 'std': 22, 'median': 108}\n",
        "new_users = {'mean': 95, 'std': 35, 'median': 80}\n",
        "\n",
        "\n",
        "#Step 2: Calculate Coefficient of Variation (CV)\n",
        "def coefficient_of_variation(std, mean):\n",
        "    return (std / mean) * 100\n",
        "\n",
        "cv_returning = coefficient_of_variation(returning_users['std'], returning_users['mean'])\n",
        "cv_new = coefficient_of_variation(new_users['std'], new_users['mean'])\n",
        "\n",
        "print(\"1. Coefficient of Variation:\")\n",
        "print(f\" - Returning Users CV: {cv_returning:.2f}%\")\n",
        "print(f\" - New Users CV: {cv_new:.2f}%\")\n",
        "\n",
        "if cv_returning < cv_new:\n",
        "    print(\"  Returning users are more consistent in cart value.\")\n",
        "else:\n",
        "    print(\"  New users are more variable in spending.\")\n",
        "\n",
        "# Step 3: Check for Skewness Based on Mean vs Median\n",
        "def interpret_skew(mean, median):\n",
        "    if mean > median:\n",
        "        return \"Right-skewed (high spenders pulling up the average)\"\n",
        "    elif mean < median:\n",
        "        return \"Left-skewed (some very low values pulling down the average)\"\n",
        "    else:\n",
        "        return \"Symmetric distribution\"\n",
        "\n",
        "print(\"\\n2. Skewness Interpretation:\")\n",
        "print(f\" - Returning Users: {interpret_skew(returning_users['mean'], returning_users['median'])}\")\n",
        "print(f\" - New Users: {interpret_skew(new_users['mean'], new_users['median'])}\")\n",
        "\n",
        "\n",
        "#Step 4: Campaign Impact on Spending\n",
        "print(\"\\n3. Campaign Impact on Metrics:\")\n",
        "print(\" - A few days of higher spending by new users will increase the mean,\")\n",
        "print(\"   but may not change the median much if the rest of the data remains low.\")\n",
        "print(\" - This could make the data more right-skewed and increase the standard deviation.\")\n",
        "\n",
        "\n",
        " #Step 5: Recommend Descriptive Stats for Business Insights\n",
        "print(\"\\n4. Recommended Descriptive Stats Techniques:\")\n",
        "\n",
        "print(\" - a) Use Boxplots to compare daily cart value distributions and spot outliers.\")\n",
        "print(\" - b) Use Time Series Plot to track daily spending trends and campaign impact over time.\")\n",
        "print(\" - c) Track Percentiles (e.g., 25th, 50th, 75th) to understand user segments.\")\n",
        "print(\" - d) Use Moving Averages to monitor smoothing trends in user spending behavior.\")\n",
        "\n",
        "\n"
      ],
      "metadata": {
        "colab": {
          "base_uri": "https://localhost:8080/"
        },
        "id": "AY0I00FchQu1",
        "outputId": "e7186a37-0ac3-472b-d8be-20654a7e4ab8"
      },
      "execution_count": 21,
      "outputs": [
        {
          "output_type": "stream",
          "name": "stdout",
          "text": [
            "1. Coefficient of Variation:\n",
            " - Returning Users CV: 20.00%\n",
            " - New Users CV: 36.84%\n",
            "  Returning users are more consistent in cart value.\n",
            "\n",
            "2. Skewness Interpretation:\n",
            " - Returning Users: Right-skewed (high spenders pulling up the average)\n",
            " - New Users: Right-skewed (high spenders pulling up the average)\n",
            "\n",
            "3. Campaign Impact on Metrics:\n",
            " - A few days of higher spending by new users will increase the mean,\n",
            "   but may not change the median much if the rest of the data remains low.\n",
            " - This could make the data more right-skewed and increase the standard deviation.\n",
            "\n",
            "4. Recommended Descriptive Stats Techniques:\n",
            " - a) Use Boxplots to compare daily cart value distributions and spot outliers.\n",
            " - b) Use Time Series Plot to track daily spending trends and campaign impact over time.\n",
            " - c) Track Percentiles (e.g., 25th, 50th, 75th) to understand user segments.\n",
            " - d) Use Moving Averages to monitor smoothing trends in user spending behavior.\n"
          ]
        }
      ]
    },
    {
      "cell_type": "code",
      "source": [],
      "metadata": {
        "id": "12MDrjYsh68y"
      },
      "execution_count": null,
      "outputs": []
    }
  ]
}