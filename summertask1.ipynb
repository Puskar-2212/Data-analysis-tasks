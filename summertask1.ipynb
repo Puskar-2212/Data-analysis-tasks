{
 "cells": [
  {
   "cell_type": "code",
   "execution_count": 22,
   "id": "c2f2f6d5",
   "metadata": {},
   "outputs": [],
   "source": [
    "from sklearn.datasets import fetch_california_housing\n",
    "import pandas as pd\n",
    "import matplotlib.pyplot as plt\n",
    "import numpy as np"
   ]
  },
  {
   "cell_type": "code",
   "execution_count": 3,
   "id": "505cfeb2",
   "metadata": {},
   "outputs": [],
   "source": [
    "data = fetch_california_housing(as_frame=True)\n",
    "df = data.frame"
   ]
  },
  {
   "cell_type": "code",
   "execution_count": 4,
   "id": "9152a59b",
   "metadata": {},
   "outputs": [
    {
     "name": "stdout",
     "output_type": "stream",
     "text": [
      "<class 'pandas.core.frame.DataFrame'>\n",
      "RangeIndex: 20640 entries, 0 to 20639\n",
      "Data columns (total 9 columns):\n",
      " #   Column       Non-Null Count  Dtype  \n",
      "---  ------       --------------  -----  \n",
      " 0   MedInc       20640 non-null  float64\n",
      " 1   HouseAge     20640 non-null  float64\n",
      " 2   AveRooms     20640 non-null  float64\n",
      " 3   AveBedrms    20640 non-null  float64\n",
      " 4   Population   20640 non-null  float64\n",
      " 5   AveOccup     20640 non-null  float64\n",
      " 6   Latitude     20640 non-null  float64\n",
      " 7   Longitude    20640 non-null  float64\n",
      " 8   MedHouseVal  20640 non-null  float64\n",
      "dtypes: float64(9)\n",
      "memory usage: 1.4 MB\n",
      "None\n"
     ]
    }
   ],
   "source": [
    "print(df.info())"
   ]
  },
  {
   "cell_type": "code",
   "execution_count": 5,
   "id": "53921ce4",
   "metadata": {},
   "outputs": [
    {
     "name": "stdout",
     "output_type": "stream",
     "text": [
      "             MedInc      HouseAge      AveRooms     AveBedrms    Population  \\\n",
      "count  20640.000000  20640.000000  20640.000000  20640.000000  20640.000000   \n",
      "mean       3.870671     28.639486      5.429000      1.096675   1425.476744   \n",
      "std        1.899822     12.585558      2.474173      0.473911   1132.462122   \n",
      "min        0.499900      1.000000      0.846154      0.333333      3.000000   \n",
      "25%        2.563400     18.000000      4.440716      1.006079    787.000000   \n",
      "50%        3.534800     29.000000      5.229129      1.048780   1166.000000   \n",
      "75%        4.743250     37.000000      6.052381      1.099526   1725.000000   \n",
      "max       15.000100     52.000000    141.909091     34.066667  35682.000000   \n",
      "\n",
      "           AveOccup      Latitude     Longitude   MedHouseVal  \n",
      "count  20640.000000  20640.000000  20640.000000  20640.000000  \n",
      "mean       3.070655     35.631861   -119.569704      2.068558  \n",
      "std       10.386050      2.135952      2.003532      1.153956  \n",
      "min        0.692308     32.540000   -124.350000      0.149990  \n",
      "25%        2.429741     33.930000   -121.800000      1.196000  \n",
      "50%        2.818116     34.260000   -118.490000      1.797000  \n",
      "75%        3.282261     37.710000   -118.010000      2.647250  \n",
      "max     1243.333333     41.950000   -114.310000      5.000010  \n"
     ]
    }
   ],
   "source": [
    "print(df.describe())"
   ]
  },
  {
   "cell_type": "markdown",
   "id": "a1bc382d",
   "metadata": {},
   "source": [
    "Problem 1"
   ]
  },
  {
   "cell_type": "code",
   "execution_count": 6,
   "id": "c2cf4fa2",
   "metadata": {},
   "outputs": [
    {
     "name": "stdout",
     "output_type": "stream",
     "text": [
      "             MedInc\n",
      "count  20640.000000\n",
      "mean       3.870671\n",
      "std        1.899822\n",
      "min        0.499900\n",
      "25%        2.563400\n",
      "50%        3.534800\n",
      "75%        4.743250\n",
      "max       15.000100\n"
     ]
    }
   ],
   "source": [
    "med_income = df[['MedInc']]\n",
    "print(med_income.describe())"
   ]
  },
  {
   "cell_type": "code",
   "execution_count": 7,
   "id": "8e6f8410",
   "metadata": {},
   "outputs": [
    {
     "name": "stdout",
     "output_type": "stream",
     "text": [
      "   Population  Latitude\n",
      "0       322.0     37.88\n",
      "1      2401.0     37.86\n",
      "2       496.0     37.85\n",
      "3       558.0     37.85\n",
      "4       565.0     37.85\n"
     ]
    }
   ],
   "source": [
    "pop_lat = df[['Population', 'Latitude']]\n",
    "print(pop_lat.head())"
   ]
  },
  {
   "cell_type": "code",
   "execution_count": 8,
   "id": "20b903ce",
   "metadata": {},
   "outputs": [
    {
     "name": "stdout",
     "output_type": "stream",
     "text": [
      "   HouseAge  AveBedrms  Latitude\n",
      "0      41.0   1.023810     37.88\n",
      "1      21.0   0.971880     37.86\n",
      "2      52.0   1.073446     37.85\n",
      "3      52.0   1.073059     37.85\n",
      "4      52.0   1.081081     37.85\n"
     ]
    }
   ],
   "source": [
    "house_lat = df[['HouseAge', 'AveBedrms', 'Latitude']]\n",
    "print(house_lat.head())"
   ]
  },
  {
   "cell_type": "markdown",
   "id": "7bb4ac30",
   "metadata": {},
   "source": [
    "Problem 2"
   ]
  },
  {
   "cell_type": "code",
   "execution_count": 9,
   "id": "4e6ac796",
   "metadata": {},
   "outputs": [
    {
     "name": "stdout",
     "output_type": "stream",
     "text": [
      "        MedInc  HouseAge  AveRooms  AveBedrms  Population  AveOccup  Latitude  \\\n",
      "0       8.3252      41.0  6.984127   1.023810       322.0  2.555556     37.88   \n",
      "1       8.3014      21.0  6.238137   0.971880      2401.0  2.109842     37.86   \n",
      "131    11.6017      18.0  8.335052   1.082474       533.0  2.747423     37.84   \n",
      "134     8.2049      28.0  6.978947   0.968421       463.0  2.436842     37.83   \n",
      "135     8.4010      26.0  7.530806   1.056872       542.0  2.568720     37.83   \n",
      "...        ...       ...       ...        ...         ...       ...       ...   \n",
      "20426  10.0472      11.0  9.890756   1.159664       415.0  3.487395     34.18   \n",
      "20427   8.6499       4.0  7.236059   1.032528      5495.0  2.553439     34.19   \n",
      "20428   8.7288       6.0  8.715842   1.102970      3385.0  3.351485     34.23   \n",
      "20436  12.5420      10.0  9.873315   1.102426      1179.0  3.177898     34.21   \n",
      "20503   8.2787      27.0  6.935065   1.103896       243.0  3.155844     34.33   \n",
      "\n",
      "       Longitude  MedHouseVal  \n",
      "0        -122.23      4.52600  \n",
      "1        -122.22      3.58500  \n",
      "131      -122.19      3.92600  \n",
      "134      -122.19      3.35200  \n",
      "135      -122.20      3.51200  \n",
      "...          ...          ...  \n",
      "20426    -118.69      5.00001  \n",
      "20427    -118.80      5.00001  \n",
      "20428    -118.83      4.25800  \n",
      "20436    -118.69      5.00001  \n",
      "20503    -118.75      3.30000  \n",
      "\n",
      "[690 rows x 9 columns]\n"
     ]
    }
   ],
   "source": [
    "high_income = df[df['MedInc'] > 8.0]\n",
    "print(high_income)\n"
   ]
  },
  {
   "cell_type": "code",
   "execution_count": 10,
   "id": "9e6a3e64",
   "metadata": {},
   "outputs": [
    {
     "name": "stdout",
     "output_type": "stream",
     "text": [
      "       MedInc  HouseAge  AveRooms  AveBedrms  Population  AveOccup  Latitude  \\\n",
      "0      8.3252      41.0  6.984127   1.023810       322.0  2.555556     37.88   \n",
      "1      8.3014      21.0  6.238137   0.971880      2401.0  2.109842     37.86   \n",
      "2      7.2574      52.0  8.288136   1.073446       496.0  2.802260     37.85   \n",
      "3      5.6431      52.0  5.817352   1.073059       558.0  2.547945     37.85   \n",
      "4      3.8462      52.0  6.281853   1.081081       565.0  2.181467     37.85   \n",
      "...       ...       ...       ...        ...         ...       ...       ...   \n",
      "20635  1.5603      25.0  5.045455   1.133333       845.0  2.560606     39.48   \n",
      "20636  2.5568      18.0  6.114035   1.315789       356.0  3.122807     39.49   \n",
      "20637  1.7000      17.0  5.205543   1.120092      1007.0  2.325635     39.43   \n",
      "20638  1.8672      18.0  5.329513   1.171920       741.0  2.123209     39.43   \n",
      "20639  2.3886      16.0  5.254717   1.162264      1387.0  2.616981     39.37   \n",
      "\n",
      "       Longitude  MedHouseVal  \n",
      "0        -122.23        4.526  \n",
      "1        -122.22        3.585  \n",
      "2        -122.24        3.521  \n",
      "3        -122.25        3.413  \n",
      "4        -122.25        3.422  \n",
      "...          ...          ...  \n",
      "20635    -121.09        0.781  \n",
      "20636    -121.21        0.771  \n",
      "20637    -121.22        0.923  \n",
      "20638    -121.32        0.847  \n",
      "20639    -121.24        0.894  \n",
      "\n",
      "[7558 rows x 9 columns]\n"
     ]
    }
   ],
   "source": [
    "north_california = df[df['Latitude'] > 37]\n",
    "print(north_california)\n"
   ]
  },
  {
   "cell_type": "code",
   "execution_count": 11,
   "id": "74526ad7",
   "metadata": {},
   "outputs": [
    {
     "name": "stdout",
     "output_type": "stream",
     "text": [
      "       MedInc  HouseAge   AveRooms  AveBedrms  Population  AveOccup  Latitude  \\\n",
      "418    6.1593      41.0   6.215470   1.077348       356.0  1.966851     37.89   \n",
      "648    6.5095      25.0   6.631579   0.894737       340.0  1.988304     37.72   \n",
      "710    2.4196      26.0   8.518248   2.700730       253.0  1.846715     37.68   \n",
      "1024   3.1500      16.0  29.852941   5.323529       202.0  1.980392     38.52   \n",
      "1102   2.4028      17.0  31.777778   9.703704        47.0  1.740741     40.06   \n",
      "...       ...       ...        ...        ...         ...       ...       ...   \n",
      "17155  7.4542      16.0   6.483333   1.066667       512.0  1.706667     37.42   \n",
      "17878  3.7614      14.0   9.363636   2.185687       813.0  1.572534     37.40   \n",
      "19362  3.3125       9.0  16.541284   3.116208       594.0  1.816514     38.70   \n",
      "20355  1.9811      16.0   6.104730   1.168919       587.0  1.983108     34.19   \n",
      "20423  5.4346      17.0   6.261168   1.505155       578.0  1.986254     34.08   \n",
      "\n",
      "       Longitude  MedHouseVal  \n",
      "418      -122.25      3.44000  \n",
      "648      -122.13      3.71200  \n",
      "710      -122.08      2.75000  \n",
      "1024     -120.00      1.40600  \n",
      "1102     -121.54      0.67500  \n",
      "...          ...          ...  \n",
      "17155    -122.23      5.00001  \n",
      "17878    -122.01      1.37500  \n",
      "19362    -123.49      2.95400  \n",
      "20355    -118.96      1.62500  \n",
      "20423    -119.00      4.28600  \n",
      "\n",
      "[106 rows x 9 columns]\n"
     ]
    }
   ],
   "source": [
    "spacious_low_occupancy = df[(df['AveRooms'] > 6.0) & (df['AveOccup'] < 2.0)]\n",
    "print(spacious_low_occupancy)\n"
   ]
  },
  {
   "cell_type": "code",
   "execution_count": 12,
   "id": "4a67e3fa",
   "metadata": {},
   "outputs": [
    {
     "name": "stdout",
     "output_type": "stream",
     "text": [
      "   Latitude Region\n",
      "0     37.88  North\n",
      "1     37.86  North\n",
      "2     37.85  North\n",
      "3     37.85  North\n",
      "4     37.85  North\n"
     ]
    }
   ],
   "source": [
    "def get_region(lat):\n",
    "    if lat > 37:\n",
    "        return 'North'\n",
    "    elif lat > 35:\n",
    "        return 'Central'\n",
    "    else:\n",
    "        return 'South'\n",
    "\n",
    "df['Region'] = df['Latitude'].apply(get_region)\n",
    "print(df[['Latitude', 'Region']].head())\n"
   ]
  },
  {
   "cell_type": "code",
   "execution_count": 13,
   "id": "d8d7dd68",
   "metadata": {},
   "outputs": [
    {
     "name": "stdout",
     "output_type": "stream",
     "text": [
      "       MedInc  HouseAge  AveRooms  AveBedrms  Population  AveOccup  Latitude  \\\n",
      "0      8.3252      41.0  6.984127   1.023810       322.0  2.555556     37.88   \n",
      "1      8.3014      21.0  6.238137   0.971880      2401.0  2.109842     37.86   \n",
      "2      7.2574      52.0  8.288136   1.073446       496.0  2.802260     37.85   \n",
      "3      5.6431      52.0  5.817352   1.073059       558.0  2.547945     37.85   \n",
      "4      3.8462      52.0  6.281853   1.081081       565.0  2.181467     37.85   \n",
      "...       ...       ...       ...        ...         ...       ...       ...   \n",
      "20635  1.5603      25.0  5.045455   1.133333       845.0  2.560606     39.48   \n",
      "20636  2.5568      18.0  6.114035   1.315789       356.0  3.122807     39.49   \n",
      "20637  1.7000      17.0  5.205543   1.120092      1007.0  2.325635     39.43   \n",
      "20638  1.8672      18.0  5.329513   1.171920       741.0  2.123209     39.43   \n",
      "20639  2.3886      16.0  5.254717   1.162264      1387.0  2.616981     39.37   \n",
      "\n",
      "       Longitude  MedHouseVal Region  \n",
      "0        -122.23        4.526  North  \n",
      "1        -122.22        3.585  North  \n",
      "2        -122.24        3.521  North  \n",
      "3        -122.25        3.413  North  \n",
      "4        -122.25        3.422  North  \n",
      "...          ...          ...    ...  \n",
      "20635    -121.09        0.781  North  \n",
      "20636    -121.21        0.771  North  \n",
      "20637    -121.22        0.923  North  \n",
      "20638    -121.32        0.847  North  \n",
      "20639    -121.24        0.894  North  \n",
      "\n",
      "[9346 rows x 10 columns]\n"
     ]
    }
   ],
   "source": [
    "north_central_region = df[df['Region'].isin(['North', 'Central'])]\n",
    "print(north_central_region)\n"
   ]
  },
  {
   "cell_type": "markdown",
   "id": "a7632179",
   "metadata": {},
   "source": [
    "Problem–3ExploratoryDataAnalysis:\n"
   ]
  },
  {
   "cell_type": "markdown",
   "id": "5840ece1",
   "metadata": {},
   "source": [
    "Q1:which House has the highest value per room?"
   ]
  },
  {
   "cell_type": "code",
   "execution_count": 14,
   "id": "fb0f7d79",
   "metadata": {},
   "outputs": [],
   "source": [
    "df['value_per_room'] = df['MedHouseVal'] / df['AveRooms']\n",
    "highvpr = df[df['value_per_room'] > 1]\n",
    "highvpr_sorted = highvpr.sort_values(by='value_per_room', ascending=False)"
   ]
  },
  {
   "cell_type": "code",
   "execution_count": 15,
   "id": "47e7299f",
   "metadata": {},
   "outputs": [
    {
     "data": {
      "text/html": [
       "<div>\n",
       "<style scoped>\n",
       "    .dataframe tbody tr th:only-of-type {\n",
       "        vertical-align: middle;\n",
       "    }\n",
       "\n",
       "    .dataframe tbody tr th {\n",
       "        vertical-align: top;\n",
       "    }\n",
       "\n",
       "    .dataframe thead th {\n",
       "        text-align: right;\n",
       "    }\n",
       "</style>\n",
       "<table border=\"1\" class=\"dataframe\">\n",
       "  <thead>\n",
       "    <tr style=\"text-align: right;\">\n",
       "      <th></th>\n",
       "      <th>MedHouseVal</th>\n",
       "      <th>AveRooms</th>\n",
       "      <th>value_per_room</th>\n",
       "    </tr>\n",
       "  </thead>\n",
       "  <tbody>\n",
       "    <tr>\n",
       "      <th>15660</th>\n",
       "      <td>5.00001</td>\n",
       "      <td>1.824719</td>\n",
       "      <td>2.740153</td>\n",
       "    </tr>\n",
       "    <tr>\n",
       "      <th>15654</th>\n",
       "      <td>4.50000</td>\n",
       "      <td>1.902087</td>\n",
       "      <td>2.365823</td>\n",
       "    </tr>\n",
       "    <tr>\n",
       "      <th>4559</th>\n",
       "      <td>5.00001</td>\n",
       "      <td>2.148148</td>\n",
       "      <td>2.327591</td>\n",
       "    </tr>\n",
       "    <tr>\n",
       "      <th>15652</th>\n",
       "      <td>5.00001</td>\n",
       "      <td>2.237474</td>\n",
       "      <td>2.234667</td>\n",
       "    </tr>\n",
       "    <tr>\n",
       "      <th>15661</th>\n",
       "      <td>5.00001</td>\n",
       "      <td>2.297872</td>\n",
       "      <td>2.175930</td>\n",
       "    </tr>\n",
       "  </tbody>\n",
       "</table>\n",
       "</div>"
      ],
      "text/plain": [
       "       MedHouseVal  AveRooms  value_per_room\n",
       "15660      5.00001  1.824719        2.740153\n",
       "15654      4.50000  1.902087        2.365823\n",
       "4559       5.00001  2.148148        2.327591\n",
       "15652      5.00001  2.237474        2.234667\n",
       "15661      5.00001  2.297872        2.175930"
      ]
     },
     "execution_count": 15,
     "metadata": {},
     "output_type": "execute_result"
    }
   ],
   "source": [
    "highvpr_sorted[['MedHouseVal', 'AveRooms', 'value_per_room']].head()"
   ]
  },
  {
   "cell_type": "markdown",
   "id": "882f9700",
   "metadata": {},
   "source": [
    "These are houses with very high median values and a low average number of rooms, resulting in a higher value per room. The top house has a value per room of approximately 2.74, meaning each room is worth around $274,000, indicating premium-priced, smaller-sized properties."
   ]
  },
  {
   "cell_type": "markdown",
   "id": "60af57fa",
   "metadata": {},
   "source": []
  },
  {
   "cell_type": "markdown",
   "id": "886690d4",
   "metadata": {},
   "source": [
    "Q2: Among high-population areas (Population > 5000), which have the highest median income per person?"
   ]
  },
  {
   "cell_type": "code",
   "execution_count": 16,
   "id": "8660362d",
   "metadata": {},
   "outputs": [],
   "source": [
    "df['income_per_person'] = df['MedInc'] / df['Population']\n",
    "dense_areas = df[df['Population'] > 5000]\n",
    "rich_dense_areas = dense_areas.sort_values(by='income_per_person', ascending=False)"
   ]
  },
  {
   "cell_type": "code",
   "execution_count": 17,
   "id": "5608644e",
   "metadata": {},
   "outputs": [
    {
     "data": {
      "text/html": [
       "<div>\n",
       "<style scoped>\n",
       "    .dataframe tbody tr th:only-of-type {\n",
       "        vertical-align: middle;\n",
       "    }\n",
       "\n",
       "    .dataframe tbody tr th {\n",
       "        vertical-align: top;\n",
       "    }\n",
       "\n",
       "    .dataframe thead th {\n",
       "        text-align: right;\n",
       "    }\n",
       "</style>\n",
       "<table border=\"1\" class=\"dataframe\">\n",
       "  <thead>\n",
       "    <tr style=\"text-align: right;\">\n",
       "      <th></th>\n",
       "      <th>MedInc</th>\n",
       "      <th>Population</th>\n",
       "      <th>income_per_person</th>\n",
       "    </tr>\n",
       "  </thead>\n",
       "  <tbody>\n",
       "    <tr>\n",
       "      <th>9004</th>\n",
       "      <td>9.1232</td>\n",
       "      <td>5452.0</td>\n",
       "      <td>0.001673</td>\n",
       "    </tr>\n",
       "    <tr>\n",
       "      <th>20427</th>\n",
       "      <td>8.6499</td>\n",
       "      <td>5495.0</td>\n",
       "      <td>0.001574</td>\n",
       "    </tr>\n",
       "    <tr>\n",
       "      <th>9027</th>\n",
       "      <td>7.7848</td>\n",
       "      <td>5175.0</td>\n",
       "      <td>0.001504</td>\n",
       "    </tr>\n",
       "    <tr>\n",
       "      <th>5724</th>\n",
       "      <td>8.1657</td>\n",
       "      <td>5459.0</td>\n",
       "      <td>0.001496</td>\n",
       "    </tr>\n",
       "    <tr>\n",
       "      <th>9013</th>\n",
       "      <td>9.1228</td>\n",
       "      <td>6214.0</td>\n",
       "      <td>0.001468</td>\n",
       "    </tr>\n",
       "  </tbody>\n",
       "</table>\n",
       "</div>"
      ],
      "text/plain": [
       "       MedInc  Population  income_per_person\n",
       "9004   9.1232      5452.0           0.001673\n",
       "20427  8.6499      5495.0           0.001574\n",
       "9027   7.7848      5175.0           0.001504\n",
       "5724   8.1657      5459.0           0.001496\n",
       "9013   9.1228      6214.0           0.001468"
      ]
     },
     "execution_count": 17,
     "metadata": {},
     "output_type": "execute_result"
    }
   ],
   "source": [
    "rich_dense_areas[['MedInc', 'Population', 'income_per_person']].head()"
   ]
  },
  {
   "cell_type": "markdown",
   "id": "2d21f473",
   "metadata": {},
   "source": [
    "These are dense areas with very high median incomes, leading to relatively higher income per person."
   ]
  },
  {
   "cell_type": "markdown",
   "id": "4a218549",
   "metadata": {},
   "source": []
  },
  {
   "cell_type": "markdown",
   "id": "7cd6320f",
   "metadata": {},
   "source": [
    " Problem–4GroupByExercises:"
   ]
  },
  {
   "cell_type": "markdown",
   "id": "1a710c81",
   "metadata": {},
   "source": [
    "Q1. WhatpercentoftotalhousevaluecomesfromeachRegion?"
   ]
  },
  {
   "cell_type": "code",
   "execution_count": 18,
   "id": "86394733",
   "metadata": {},
   "outputs": [
    {
     "name": "stdout",
     "output_type": "stream",
     "text": [
      "Region\n",
      "Central     5.195671\n",
      "North      36.267665\n",
      "South      58.536663\n",
      "Name: MedHouseVal, dtype: float64\n"
     ]
    }
   ],
   "source": [
    "# 1. Total house value\n",
    "total_value = df['MedHouseVal'].sum()\n",
    "\n",
    "# 2. Group by Region and sum house value\n",
    "region_value = df.groupby('Region')['MedHouseVal'].sum()\n",
    "\n",
    "# 3. Calculate percentage contribution\n",
    "region_percentage = (region_value / total_value) * 100\n",
    "print(region_percentage)"
   ]
  },
  {
   "cell_type": "markdown",
   "id": "22797a13",
   "metadata": {},
   "source": [
    "The South region contributes the most to the total median house value with 58.53%, followed by the North with 36.27%, and Central with only 5.20%. This indicates that the South holds a significantly larger portion of California’s overall housing market value."
   ]
  },
  {
   "cell_type": "markdown",
   "id": "6cd9aed3",
   "metadata": {},
   "source": []
  },
  {
   "cell_type": "markdown",
   "id": "2b308743",
   "metadata": {},
   "source": [
    "Q2: What percent of total houses belong to different age groups?"
   ]
  },
  {
   "cell_type": "code",
   "execution_count": 19,
   "id": "5da97416",
   "metadata": {},
   "outputs": [
    {
     "name": "stdout",
     "output_type": "stream",
     "text": [
      "AgeGroup\n",
      "Mid    51.501938\n",
      "New    28.236434\n",
      "Old    20.261628\n",
      "Name: count, dtype: float64\n"
     ]
    }
   ],
   "source": [
    "def get_age_group(age):\n",
    "    if age < 20:\n",
    "        return 'New'\n",
    "    elif age < 40:\n",
    "        return 'Mid'\n",
    "    else:\n",
    "        return 'Old'\n",
    "\n",
    "df['AgeGroup'] = df['HouseAge'].apply(get_age_group)\n",
    "\n",
    "# 2. Count total houses\n",
    "total_houses = len(df)\n",
    "\n",
    "# 3. Group by AgeGroup and count\n",
    "age_counts = df['AgeGroup'].value_counts()\n",
    "\n",
    "# 4. Compute percentage share\n",
    "age_percentages = (age_counts / total_houses) * 100\n",
    "print(age_percentages)"
   ]
  },
  {
   "cell_type": "markdown",
   "id": "1f3b76e3",
   "metadata": {},
   "source": [
    "About 51.50% of the houses are in the Mid age group (20–39 years), 28.24% are New (less than 20 years old), and 20.26% are Old (40 years or older). This shows that the majority of homes were built in the past 20 to 40 years, indicating a relatively modern housing stock in the dataset."
   ]
  },
  {
   "cell_type": "markdown",
   "id": "dff0983a",
   "metadata": {},
   "source": []
  },
  {
   "cell_type": "markdown",
   "id": "9bb0200b",
   "metadata": {},
   "source": [
    "Advanced exercises\n"
   ]
  },
  {
   "cell_type": "markdown",
   "id": "e7825c8e",
   "metadata": {},
   "source": [
    "1.correlation Analysis"
   ]
  },
  {
   "cell_type": "code",
   "execution_count": 21,
   "id": "c69bab2d",
   "metadata": {},
   "outputs": [
    {
     "name": "stdout",
     "output_type": "stream",
     "text": [
      "Pearson Correlation Coefficients with MedHouseVal:\n",
      "MedHouseVal    1.000000\n",
      "MedInc         0.688075\n",
      "AveRooms       0.151948\n",
      "HouseAge       0.105623\n",
      "AveOccup      -0.023737\n",
      "Population    -0.024650\n",
      "Longitude     -0.045967\n",
      "AveBedrms     -0.046701\n",
      "Latitude      -0.144160\n",
      "Name: MedHouseVal, dtype: float64\n",
      "\n",
      "Strongest Positive Correlation:\n",
      "MedInc    0.688075\n",
      "Name: MedHouseVal, dtype: float64\n",
      "\n",
      "Strongest Negative Correlation:\n",
      "Latitude   -0.14416\n",
      "Name: MedHouseVal, dtype: float64\n",
      "\n",
      "Interpretation:\n",
      "1. Strongest Positive Correlation (MedInc):\n",
      "   - The strong positive correlation with MedInc indicates that areas with higher median incomes tend to have higher house values. This reflects economic factors driving property prices, as wealthier households can afford more expensive homes.\n",
      "2. Strongest Negative Correlation (Latitude):\n",
      "   - The negative correlation with Latitude suggests that house values slightly decrease in more northern regions of California. However, the weak correlation implies that location alone is not a strong predictor, and other factors like income or proximity to urban areas may play a larger role.\n"
     ]
    }
   ],
   "source": [
    "\n",
    "\n",
    "# Add the Region column as in the notebook (to match the provided context)\n",
    "def get_region(lat):\n",
    "    if lat > 37:\n",
    "        return 'North'\n",
    "    elif lat > 35:\n",
    "        return 'Central'\n",
    "    else:\n",
    "        return 'South'\n",
    "\n",
    "df['Region'] = df['Latitude'].apply(get_region)\n",
    "\n",
    "# Select only numerical columns for correlation analysis\n",
    "numerical_cols = ['MedInc', 'HouseAge', 'AveRooms', 'AveBedrms', 'Population', 'AveOccup', 'Latitude', 'Longitude', 'MedHouseVal']\n",
    "numerical_df = df[numerical_cols]\n",
    "\n",
    "# Compute Pearson correlation coefficients between MedHouseVal and all numerical features\n",
    "correlations = numerical_df.corr(method='pearson')['MedHouseVal'].sort_values(ascending=False)\n",
    "\n",
    "# Display all correlations\n",
    "print(\"Pearson Correlation Coefficients with MedHouseVal:\")\n",
    "print(correlations)\n",
    "\n",
    "# Identify strongest positive and negative correlations (excluding MedHouseVal itself)\n",
    "correlations = correlations.drop('MedHouseVal')\n",
    "strongest_positive = correlations.head(1)\n",
    "strongest_negative = correlations.tail(1)\n",
    "\n",
    "print(\"\\nStrongest Positive Correlation:\")\n",
    "print(strongest_positive)\n",
    "print(\"\\nStrongest Negative Correlation:\")\n",
    "print(strongest_negative)\n",
    "\n",
    "# Interpretation\n",
    "print(\"\\nInterpretation:\")\n",
    "print(\"1. Strongest Positive Correlation (MedInc):\")\n",
    "print(\"   - The strong positive correlation with MedInc indicates that areas with higher median incomes tend to have higher house values. This reflects economic factors driving property prices, as wealthier households can afford more expensive homes.\")\n",
    "print(\"2. Strongest Negative Correlation (Latitude):\")\n",
    "print(\"   - The negative correlation with Latitude suggests that house values slightly decrease in more northern regions of California. However, the weak correlation implies that location alone is not a strong predictor, and other factors like income or proximity to urban areas may play a larger role.\")"
   ]
  },
  {
   "cell_type": "markdown",
   "id": "9e06c22e",
   "metadata": {},
   "source": []
  },
  {
   "cell_type": "markdown",
   "id": "45157c80",
   "metadata": {},
   "source": [
    " 2. Handling Missing Data:"
   ]
  },
  {
   "cell_type": "code",
   "execution_count": 23,
   "id": "4daafeca",
   "metadata": {},
   "outputs": [
    {
     "name": "stdout",
     "output_type": "stream",
     "text": [
      "Number of missing values in AveRooms: 1018\n"
     ]
    },
    {
     "data": {
      "image/png": "[encoded data removed]",
      "text/plain": [
       "<Figure size 1200x500 with 2 Axes>"
      ]
     },
     "metadata": {},
     "output_type": "display_data"
    },
    {
     "name": "stdout",
     "output_type": "stream",
     "text": [
      "\n",
      "Summary Statistics:\n",
      "Original AveRooms:\n",
      "count    20640.000000\n",
      "mean         5.429000\n",
      "std          2.474173\n",
      "min          0.846154\n",
      "25%          4.440716\n",
      "50%          5.229129\n",
      "75%          6.052381\n",
      "max        141.909091\n",
      "Name: AveRooms_original, dtype: float64\n",
      "\n",
      "Imputed AveRooms:\n",
      "count    20640.000000\n",
      "mean         5.421780\n",
      "std          2.444086\n",
      "min          0.846154\n",
      "25%          4.490504\n",
      "50%          5.230603\n",
      "75%          5.999059\n",
      "max        141.909091\n",
      "Name: AveRooms_imputed, dtype: float64\n"
     ]
    }
   ],
   "source": [
    "\n",
    "# Create a copy of AveRooms to preserve original data\n",
    "df['AveRooms_original'] = df['AveRooms']\n",
    "\n",
    "# Randomly set 5% of AveRooms values to NaN\n",
    "np.random.seed(42)  # For reproducibility\n",
    "mask = np.random.choice([True, False], size=df.shape[0], p=[0.05, 0.95])\n",
    "df.loc[mask, 'AveRooms'] = np.nan\n",
    "\n",
    "# Verify missingness\n",
    "print(f\"Number of missing values in AveRooms: {df['AveRooms'].isna().sum()}\")\n",
    "\n",
    "# Impute missing values using median\n",
    "median_value = df['AveRooms'].median()\n",
    "df['AveRooms_imputed'] = df['AveRooms'].fillna(median_value)\n",
    "\n",
    "# Visualize distributions using histograms\n",
    "plt.figure(figsize=(12, 5))\n",
    "\n",
    "# Histogram for original AveRooms\n",
    "plt.subplot(1, 2, 1)\n",
    "plt.hist(df['AveRooms_original'], bins=50, color='blue', alpha=0.7, label='Original')\n",
    "plt.title('Original AveRooms Distribution')\n",
    "plt.xlabel('AveRooms')\n",
    "plt.ylabel('Frequency')\n",
    "plt.legend()\n",
    "\n",
    "# Histogram for imputed AveRooms\n",
    "plt.subplot(1, 2, 2)\n",
    "plt.hist(df['AveRooms_imputed'], bins=50, color='green', alpha=0.7, label='Imputed')\n",
    "plt.title('Imputed AveRooms Distribution')\n",
    "plt.xlabel('AveRooms')\n",
    "plt.ylabel('Frequency')\n",
    "plt.legend()\n",
    "\n",
    "plt.tight_layout()\n",
    "plt.show()\n",
    "\n",
    "# Summary statistics for comparison\n",
    "print(\"\\nSummary Statistics:\")\n",
    "print(\"Original AveRooms:\")\n",
    "print(df['AveRooms_original'].describe())\n",
    "print(\"\\nImputed AveRooms:\")\n",
    "print(df['AveRooms_imputed'].describe())"
   ]
  },
  {
   "cell_type": "code",
   "execution_count": 24,
   "id": "b951a543",
   "metadata": {},
   "outputs": [
    {
     "name": "stdout",
     "output_type": "stream",
     "text": [
      "=== Problem 1: Array Creation ===\n",
      "1D Array (0 to 19):\n",
      " [ 0  1  2  3  4  5  6  7  8  9 10 11 12 13 14 15 16 17 18 19]\n",
      "\n",
      "4x5 Matrix:\n",
      " [[ 0  1  2  3  4]\n",
      " [ 5  6  7  8  9]\n",
      " [10 11 12 13 14]\n",
      " [15 16 17 18 19]]\n",
      "\n",
      "5x5 Identity Matrix:\n",
      " [[1. 0. 0. 0. 0.]\n",
      " [0. 1. 0. 0. 0.]\n",
      " [0. 0. 1. 0. 0.]\n",
      " [0. 0. 0. 1. 0.]\n",
      " [0. 0. 0. 0. 1.]]\n",
      "\n",
      "3x3 Matrix filled with 7:\n",
      " [[7 7 7]\n",
      " [7 7 7]\n",
      " [7 7 7]]\n",
      "\n",
      "=== Problem 2: Basic Operations ===\n",
      "Matrix A:\n",
      " [[6 3 7]\n",
      " [4 6 9]\n",
      " [2 6 7]]\n",
      "\n",
      "Matrix B:\n",
      " [[4 3 7]\n",
      " [7 2 5]\n",
      " [4 1 7]]\n",
      "\n",
      "Element-wise Addition (A + B):\n",
      " [[10  6 14]\n",
      " [11  8 14]\n",
      " [ 6  7 14]]\n",
      "\n",
      "Element-wise Multiplication (A * B):\n",
      " [[24  9 49]\n",
      " [28 12 45]\n",
      " [ 8  6 49]]\n",
      "\n",
      "Element-wise Division (A / B):\n",
      " [[1.5        1.         1.        ]\n",
      " [0.57142857 3.         1.8       ]\n",
      " [0.5        6.         1.        ]]\n",
      "\n",
      "Matrix Multiplication (A @ B):\n",
      " [[ 73  31 106]\n",
      " [ 94  33 121]\n",
      " [ 78  25  93]]\n",
      "\n",
      "Statistics for Matrix A:\n",
      "Mean: 5.555555555555555\n",
      "Median: 6.0\n",
      "Standard Deviation: 2.0608041101101566\n",
      "Sum: 50\n",
      "\n",
      "Statistics for Matrix B:\n",
      "Mean: 4.444444444444445\n",
      "Median: 4.0\n",
      "Standard Deviation: 2.1140330656044943\n",
      "Sum: 40\n",
      "\n",
      "=== Problem 3: Indexing and Slicing ===\n",
      "First two rows of A:\n",
      " [[6 3 7]\n",
      " [4 6 9]]\n",
      "\n",
      "Elements in A > 5:\n",
      " [6 7 6 9 6 7]\n",
      "\n",
      "Matrix A with even numbers replaced by -1:\n",
      " [[-1  3  7]\n",
      " [-1 -1  9]\n",
      " [-1 -1  7]]\n"
     ]
    }
   ],
   "source": [
    "\n",
    "# Set random seed for reproducibility\n",
    "np.random.seed(42)\n",
    "\n",
    "# Problem 1: Array Creation\n",
    "print(\"=== Problem 1: Array Creation ===\")\n",
    "# 1. Create a 1D NumPy array containing integers from 0 to 19\n",
    "array_1d = np.arange(20)\n",
    "print(\"1D Array (0 to 19):\\n\", array_1d)\n",
    "\n",
    "# 2. Reshape it into a 4x5 matrix\n",
    "matrix_4x5 = array_1d.reshape(4, 5)\n",
    "print(\"\\n4x5 Matrix:\\n\", matrix_4x5)\n",
    "\n",
    "# 3. Generate a 5x5 identity matrix and a 3x3 matrix filled with 7\n",
    "identity_5x5 = np.eye(5)\n",
    "matrix_3x3_seven = np.full((3, 3), 7)\n",
    "print(\"\\n5x5 Identity Matrix:\\n\", identity_5x5)\n",
    "print(\"\\n3x3 Matrix filled with 7:\\n\", matrix_3x3_seven)\n",
    "\n",
    "# Problem 2: Basic Operations\n",
    "print(\"\\n=== Problem 2: Basic Operations ===\")\n",
    "# 1. Create two 3x3 matrices A and B with random integers (0–9)\n",
    "A = np.random.randint(0, 10, size=(3, 3))\n",
    "B = np.random.randint(0, 10, size=(3, 3))\n",
    "print(\"Matrix A:\\n\", A)\n",
    "print(\"\\nMatrix B:\\n\", B)\n",
    "\n",
    "# 2. Perform element-wise operations\n",
    "addition = A + B\n",
    "multiplication = A * B\n",
    "division = A / B  # Note: Division may produce floats or inf if B contains 0\n",
    "matrix_mult = A @ B\n",
    "print(\"\\nElement-wise Addition (A + B):\\n\", addition)\n",
    "print(\"\\nElement-wise Multiplication (A * B):\\n\", multiplication)\n",
    "print(\"\\nElement-wise Division (A / B):\\n\", division)\n",
    "print(\"\\nMatrix Multiplication (A @ B):\\n\", matrix_mult)\n",
    "\n",
    "# 3. Compute statistics for each matrix\n",
    "print(\"\\nStatistics for Matrix A:\")\n",
    "print(\"Mean:\", np.mean(A))\n",
    "print(\"Median:\", np.median(A))\n",
    "print(\"Standard Deviation:\", np.std(A))\n",
    "print(\"Sum:\", np.sum(A))\n",
    "\n",
    "print(\"\\nStatistics for Matrix B:\")\n",
    "print(\"Mean:\", np.mean(B))\n",
    "print(\"Median:\", np.median(B))\n",
    "print(\"Standard Deviation:\", np.std(B))\n",
    "print(\"Sum:\", np.sum(B))\n",
    "\n",
    "# Problem 3: Indexing and Slicing\n",
    "print(\"\\n=== Problem 3: Indexing and Slicing ===\")\n",
    "# 1. Slice the first two rows of matrix A\n",
    "first_two_rows = A[:2, :]\n",
    "print(\"First two rows of A:\\n\", first_two_rows)\n",
    "\n",
    "# 2. Select elements greater than 5\n",
    "greater_than_5 = A[A > 5]\n",
    "print(\"\\nElements in A > 5:\\n\", greater_than_5)\n",
    "\n",
    "# 3. Replace all even numbers in A with -1\n",
    "A_modified = A.copy()  # Create a copy to avoid modifying original A\n",
    "A_modified[A_modified % 2 == 0] = -1\n",
    "print(\"\\nMatrix A with even numbers replaced by -1:\\n\", A_modified)"
   ]
  }
 ],
 "metadata": {
  "kernelspec": {
   "display_name": "myenv",
   "language": "python",
   "name": "myenv"
  },
  "language_info": {
   "codemirror_mode": {
    "name": "ipython",
    "version": 3
   },
   "file_extension": ".py",
   "mimetype": "text/x-python",
   "name": "python",
   "nbconvert_exporter": "python",
   "pygments_lexer": "ipython3",
   "version": "3.12.0"
  }
 },
 "nbformat": 4,
 "nbformat_minor": 5
}
